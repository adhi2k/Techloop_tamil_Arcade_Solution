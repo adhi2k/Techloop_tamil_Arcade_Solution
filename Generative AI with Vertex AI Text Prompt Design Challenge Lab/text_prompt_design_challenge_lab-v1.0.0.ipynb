{
 "cells": [
  {
   "cell_type": "markdown",
   "metadata": {
    "id": "VEqbX8OhE8y9"
   },
   "source": [
    "# Text Prompt Design: Challenge Lab\n",
    "\n",
    "## Overview\n",
    "\n",
    "This challenge lab is designed to test your knowledge of calling Gemini and utilizing a few fundamental text prompt design techniques.\n",
    "\n",
    "Two featured guides on prompting from the Google Cloud documentation are:\n",
    "\n",
    "1. [Overview of prompting strategies](https://cloud.google.com/vertex-ai/generative-ai/docs/learn/prompts/prompt-design-strategies) from the Generative AI on Vertex AI documentation.\n",
    "\n",
    "2. [Prompt design strategies](https://ai.google.dev/gemini-api/docs/prompting-strategies) from the Gemini API documentation.\n",
    "\n",
    "Both contain good tips. You are encouraged to **bookmark them**.\n",
    "\n",
    "## Objective\n",
    "You will demonstrate your ability to:\n",
    "\n",
    "- Initialize Vertex AI in your environment\n",
    "- Load a generative model\n",
    "- Guide model output with a persona\n",
    "- Extract information to a schema\n",
    "- Stay on topic with fallback responses\n",
    "- Use examples to influence the model's response\n",
    "\n",
    "Some of the following Python notebook cells have missing or incomplete code sections and tasks that need to be completed, indicated by the code comments starting with `# TODO`. Your challenge is to complete each cell, run it to test for correctness, and then move on. When all the cells are working, you have completed the challenge.\n",
    "\n",
    "**Note:** If you need help, [this notebook demonstrates getting started using Gemini in Python](https://github.com/GoogleCloudPlatform/generative-ai/blob/main/gemini/getting-started/intro_gemini_python.ipynb)."
   ]
  },
  {
   "cell_type": "markdown",
   "metadata": {
    "id": "N5afkyDMSBW5"
   },
   "source": [
    "## Task 1. Install, import & initialize the Vertex AI SDK and a generative model\n",
    "\n",
    "1. Install the Vertex AI SDK."
   ]
  },
  {
   "cell_type": "code",
   "execution_count": 1,
   "metadata": {
    "id": "kc4WxYmLSBW5",
    "tags": []
   },
   "outputs": [
    {
     "name": "stdout",
     "output_type": "stream",
     "text": [
      "Requirement already satisfied: google-cloud-aiplatform in /opt/conda/lib/python3.10/site-packages (1.70.0)\n",
      "Collecting google-cloud-aiplatform\n",
      "  Downloading google_cloud_aiplatform-1.71.0-py2.py3-none-any.whl.metadata (32 kB)\n",
      "Requirement already satisfied: google-api-core!=2.0.*,!=2.1.*,!=2.2.*,!=2.3.*,!=2.4.*,!=2.5.*,!=2.6.*,!=2.7.*,<3.0.0dev,>=1.34.1 in /opt/conda/lib/python3.10/site-packages (from google-api-core[grpc]!=2.0.*,!=2.1.*,!=2.2.*,!=2.3.*,!=2.4.*,!=2.5.*,!=2.6.*,!=2.7.*,<3.0.0dev,>=1.34.1->google-cloud-aiplatform) (1.34.1)\n",
      "Requirement already satisfied: google-auth<3.0.0dev,>=2.14.1 in /opt/conda/lib/python3.10/site-packages (from google-cloud-aiplatform) (2.35.0)\n",
      "Requirement already satisfied: proto-plus<2.0.0dev,>=1.22.3 in /opt/conda/lib/python3.10/site-packages (from google-cloud-aiplatform) (1.24.0)\n",
      "Requirement already satisfied: protobuf!=4.21.0,!=4.21.1,!=4.21.2,!=4.21.3,!=4.21.4,!=4.21.5,<6.0.0dev,>=3.20.2 in /opt/conda/lib/python3.10/site-packages (from google-cloud-aiplatform) (3.20.3)\n",
      "Requirement already satisfied: packaging>=14.3 in /opt/conda/lib/python3.10/site-packages (from google-cloud-aiplatform) (24.1)\n",
      "Requirement already satisfied: google-cloud-storage<3.0.0dev,>=1.32.0 in /opt/conda/lib/python3.10/site-packages (from google-cloud-aiplatform) (2.14.0)\n",
      "Requirement already satisfied: google-cloud-bigquery!=3.20.0,<4.0.0dev,>=1.15.0 in /opt/conda/lib/python3.10/site-packages (from google-cloud-aiplatform) (3.25.0)\n",
      "Requirement already satisfied: google-cloud-resource-manager<3.0.0dev,>=1.3.3 in /opt/conda/lib/python3.10/site-packages (from google-cloud-aiplatform) (1.12.5)\n",
      "Requirement already satisfied: shapely<3.0.0dev in /opt/conda/lib/python3.10/site-packages (from google-cloud-aiplatform) (2.0.6)\n",
      "Requirement already satisfied: pydantic<3 in /opt/conda/lib/python3.10/site-packages (from google-cloud-aiplatform) (2.9.2)\n",
      "Requirement already satisfied: docstring-parser<1 in /opt/conda/lib/python3.10/site-packages (from google-cloud-aiplatform) (0.16)\n",
      "Requirement already satisfied: googleapis-common-protos<2.0dev,>=1.56.2 in /opt/conda/lib/python3.10/site-packages (from google-api-core!=2.0.*,!=2.1.*,!=2.2.*,!=2.3.*,!=2.4.*,!=2.5.*,!=2.6.*,!=2.7.*,<3.0.0dev,>=1.34.1->google-api-core[grpc]!=2.0.*,!=2.1.*,!=2.2.*,!=2.3.*,!=2.4.*,!=2.5.*,!=2.6.*,!=2.7.*,<3.0.0dev,>=1.34.1->google-cloud-aiplatform) (1.65.0)\n",
      "Requirement already satisfied: requests<3.0.0dev,>=2.18.0 in /opt/conda/lib/python3.10/site-packages (from google-api-core!=2.0.*,!=2.1.*,!=2.2.*,!=2.3.*,!=2.4.*,!=2.5.*,!=2.6.*,!=2.7.*,<3.0.0dev,>=1.34.1->google-api-core[grpc]!=2.0.*,!=2.1.*,!=2.2.*,!=2.3.*,!=2.4.*,!=2.5.*,!=2.6.*,!=2.7.*,<3.0.0dev,>=1.34.1->google-cloud-aiplatform) (2.32.3)\n",
      "Requirement already satisfied: grpcio<2.0dev,>=1.33.2 in /opt/conda/lib/python3.10/site-packages (from google-api-core[grpc]!=2.0.*,!=2.1.*,!=2.2.*,!=2.3.*,!=2.4.*,!=2.5.*,!=2.6.*,!=2.7.*,<3.0.0dev,>=1.34.1->google-cloud-aiplatform) (1.66.2)\n",
      "Requirement already satisfied: grpcio-status<2.0dev,>=1.33.2 in /opt/conda/lib/python3.10/site-packages (from google-api-core[grpc]!=2.0.*,!=2.1.*,!=2.2.*,!=2.3.*,!=2.4.*,!=2.5.*,!=2.6.*,!=2.7.*,<3.0.0dev,>=1.34.1->google-cloud-aiplatform) (1.48.2)\n",
      "Requirement already satisfied: cachetools<6.0,>=2.0.0 in /opt/conda/lib/python3.10/site-packages (from google-auth<3.0.0dev,>=2.14.1->google-cloud-aiplatform) (5.5.0)\n",
      "Requirement already satisfied: pyasn1-modules>=0.2.1 in /opt/conda/lib/python3.10/site-packages (from google-auth<3.0.0dev,>=2.14.1->google-cloud-aiplatform) (0.4.1)\n",
      "Requirement already satisfied: rsa<5,>=3.1.4 in /opt/conda/lib/python3.10/site-packages (from google-auth<3.0.0dev,>=2.14.1->google-cloud-aiplatform) (4.9)\n",
      "Requirement already satisfied: google-cloud-core<3.0.0dev,>=1.6.0 in /opt/conda/lib/python3.10/site-packages (from google-cloud-bigquery!=3.20.0,<4.0.0dev,>=1.15.0->google-cloud-aiplatform) (2.4.1)\n",
      "Requirement already satisfied: google-resumable-media<3.0dev,>=0.6.0 in /opt/conda/lib/python3.10/site-packages (from google-cloud-bigquery!=3.20.0,<4.0.0dev,>=1.15.0->google-cloud-aiplatform) (2.7.2)\n",
      "Requirement already satisfied: python-dateutil<3.0dev,>=2.7.2 in /opt/conda/lib/python3.10/site-packages (from google-cloud-bigquery!=3.20.0,<4.0.0dev,>=1.15.0->google-cloud-aiplatform) (2.9.0.post0)\n",
      "Requirement already satisfied: grpc-google-iam-v1<1.0.0dev,>=0.12.4 in /opt/conda/lib/python3.10/site-packages (from google-cloud-resource-manager<3.0.0dev,>=1.3.3->google-cloud-aiplatform) (0.13.1)\n",
      "Requirement already satisfied: google-crc32c<2.0dev,>=1.0 in /opt/conda/lib/python3.10/site-packages (from google-cloud-storage<3.0.0dev,>=1.32.0->google-cloud-aiplatform) (1.6.0)\n",
      "Requirement already satisfied: annotated-types>=0.6.0 in /opt/conda/lib/python3.10/site-packages (from pydantic<3->google-cloud-aiplatform) (0.7.0)\n",
      "Requirement already satisfied: pydantic-core==2.23.4 in /opt/conda/lib/python3.10/site-packages (from pydantic<3->google-cloud-aiplatform) (2.23.4)\n",
      "Requirement already satisfied: typing-extensions>=4.6.1 in /opt/conda/lib/python3.10/site-packages (from pydantic<3->google-cloud-aiplatform) (4.12.2)\n",
      "Requirement already satisfied: numpy<3,>=1.14 in /opt/conda/lib/python3.10/site-packages (from shapely<3.0.0dev->google-cloud-aiplatform) (1.26.4)\n",
      "Requirement already satisfied: pyasn1<0.7.0,>=0.4.6 in /opt/conda/lib/python3.10/site-packages (from pyasn1-modules>=0.2.1->google-auth<3.0.0dev,>=2.14.1->google-cloud-aiplatform) (0.6.1)\n",
      "Requirement already satisfied: six>=1.5 in /opt/conda/lib/python3.10/site-packages (from python-dateutil<3.0dev,>=2.7.2->google-cloud-bigquery!=3.20.0,<4.0.0dev,>=1.15.0->google-cloud-aiplatform) (1.16.0)\n",
      "Requirement already satisfied: charset-normalizer<4,>=2 in /opt/conda/lib/python3.10/site-packages (from requests<3.0.0dev,>=2.18.0->google-api-core!=2.0.*,!=2.1.*,!=2.2.*,!=2.3.*,!=2.4.*,!=2.5.*,!=2.6.*,!=2.7.*,<3.0.0dev,>=1.34.1->google-api-core[grpc]!=2.0.*,!=2.1.*,!=2.2.*,!=2.3.*,!=2.4.*,!=2.5.*,!=2.6.*,!=2.7.*,<3.0.0dev,>=1.34.1->google-cloud-aiplatform) (3.3.2)\n",
      "Requirement already satisfied: idna<4,>=2.5 in /opt/conda/lib/python3.10/site-packages (from requests<3.0.0dev,>=2.18.0->google-api-core!=2.0.*,!=2.1.*,!=2.2.*,!=2.3.*,!=2.4.*,!=2.5.*,!=2.6.*,!=2.7.*,<3.0.0dev,>=1.34.1->google-api-core[grpc]!=2.0.*,!=2.1.*,!=2.2.*,!=2.3.*,!=2.4.*,!=2.5.*,!=2.6.*,!=2.7.*,<3.0.0dev,>=1.34.1->google-cloud-aiplatform) (3.10)\n",
      "Requirement already satisfied: urllib3<3,>=1.21.1 in /opt/conda/lib/python3.10/site-packages (from requests<3.0.0dev,>=2.18.0->google-api-core!=2.0.*,!=2.1.*,!=2.2.*,!=2.3.*,!=2.4.*,!=2.5.*,!=2.6.*,!=2.7.*,<3.0.0dev,>=1.34.1->google-api-core[grpc]!=2.0.*,!=2.1.*,!=2.2.*,!=2.3.*,!=2.4.*,!=2.5.*,!=2.6.*,!=2.7.*,<3.0.0dev,>=1.34.1->google-cloud-aiplatform) (1.26.20)\n",
      "Requirement already satisfied: certifi>=2017.4.17 in /opt/conda/lib/python3.10/site-packages (from requests<3.0.0dev,>=2.18.0->google-api-core!=2.0.*,!=2.1.*,!=2.2.*,!=2.3.*,!=2.4.*,!=2.5.*,!=2.6.*,!=2.7.*,<3.0.0dev,>=1.34.1->google-api-core[grpc]!=2.0.*,!=2.1.*,!=2.2.*,!=2.3.*,!=2.4.*,!=2.5.*,!=2.6.*,!=2.7.*,<3.0.0dev,>=1.34.1->google-cloud-aiplatform) (2024.8.30)\n",
      "Downloading google_cloud_aiplatform-1.71.0-py2.py3-none-any.whl (6.2 MB)\n",
      "\u001b[2K   \u001b[90m━━━━━━━━━━━━━━━━━━━━━━━━━━━━━━━━━━━━━━━━\u001b[0m \u001b[32m6.2/6.2 MB\u001b[0m \u001b[31m55.1 MB/s\u001b[0m eta \u001b[36m0:00:00\u001b[0m\n",
      "\u001b[?25hInstalling collected packages: google-cloud-aiplatform\n",
      "\u001b[33m  WARNING: The script tb-gcp-uploader is installed in '/home/jupyter/.local/bin' which is not on PATH.\n",
      "  Consider adding this directory to PATH or, if you prefer to suppress this warning, use --no-warn-script-location.\u001b[0m\u001b[33m\n",
      "\u001b[0mSuccessfully installed google-cloud-aiplatform-1.71.0\n",
      "Note: you may need to restart the kernel to use updated packages.\n"
     ]
    }
   ],
   "source": [
    "# TODO: Complete the following pip command\n",
    "%pip install --upgrade --user google-cloud-aiplatform"
   ]
  },
  {
   "cell_type": "markdown",
   "metadata": {
    "id": "BuQwwRiniVFG"
   },
   "source": [
    "2. Restart your notebook kernel.\n",
    "3. Import the following:\n",
    "- the Vertex AI SDK\n",
    "- the class to instantiate a generative model from the Vertex AI generative models module"
   ]
  },
  {
   "cell_type": "code",
   "execution_count": 2,
   "metadata": {
    "tags": []
   },
   "outputs": [
    {
     "data": {
      "text/plain": [
       "{'status': 'ok', 'restart': True}"
      ]
     },
     "execution_count": 2,
     "metadata": {},
     "output_type": "execute_result"
    }
   ],
   "source": [
    "import IPython\n",
    "\n",
    "app = IPython.Application.instance()\n",
    "app.kernel.do_shutdown(True)"
   ]
  },
  {
   "cell_type": "code",
   "execution_count": 1,
   "metadata": {
    "id": "kpdnPWaTK27C",
    "tags": []
   },
   "outputs": [],
   "source": [
    "# Define project information\n",
    "PROJECT_ID = \"qwiklabs-gcp-03-0eb18b2939ed\"  # @param {type:\"string\"}\n",
    "LOCATION = \"us-central1\"  # @param {type:\"string\"}\n",
    "\n",
    "# Initialize Vertex AI\n",
    "import vertexai\n",
    "\n",
    "vertexai.init(project=PROJECT_ID, location=LOCATION)"
   ]
  },
  {
   "cell_type": "markdown",
   "metadata": {
    "id": "6Fom0ZkMSBW6"
   },
   "source": [
    "4. Initialize Vertex AI with your project ID and a location (you can use like `us-central1`)."
   ]
  },
  {
   "cell_type": "code",
   "execution_count": 2,
   "metadata": {
    "id": "LCaCx6PLSBW6",
    "tags": []
   },
   "outputs": [],
   "source": [
    "# TODO: Insert the required steps here\n",
    "# TODO: Insert the required steps here\n",
    "from vertexai.generative_models import (\n",
    "    GenerationConfig,\n",
    "    GenerativeModel,\n",
    "    HarmBlockThreshold,\n",
    "    HarmCategory,\n",
    "    Image,\n",
    "    Part,\n",
    "    SafetySetting,\n",
    ")"
   ]
  },
  {
   "cell_type": "markdown",
   "metadata": {
    "id": "O8DUcgKJK27C"
   },
   "source": [
    "5. Instantiate a generative model and save it to the `generative_model` variable. For this notebook, use `gemini-pro` as your model version. When instantiating the model, pass a `generation_config` parameter with the temperature set to 0."
   ]
  },
  {
   "cell_type": "code",
   "execution_count": 3,
   "metadata": {
    "id": "2998506fe6d1",
    "tags": []
   },
   "outputs": [],
   "source": [
    "# TODO: Insantiate a \"gemini-pro\" model with a configured temperature of 0.\n",
    "model = GenerativeModel(\"gemini-1.5-pro\")"
   ]
  },
  {
   "cell_type": "markdown",
   "metadata": {
    "id": "h3YN2rf1K27C"
   },
   "source": [
    "6. Complete the TODO's in this function, which you will use for the rest of the lab:"
   ]
  },
  {
   "cell_type": "code",
   "execution_count": 4,
   "metadata": {
    "id": "joXl2V2JK27D",
    "tags": []
   },
   "outputs": [
    {
     "name": "stdout",
     "output_type": "stream",
     "text": [
      "The sky appears blue due to a phenomenon called **Rayleigh scattering**. Here's how it works:\n",
      "\n",
      "1. **Sunlight Enters the Atmosphere:**  Sunlight, which appears white, is actually a mixture of all colors of the rainbow. When this light enters Earth's atmosphere, it encounters tiny particles like nitrogen and oxygen molecules.\n",
      "\n",
      "2. **Shorter Wavelengths Scatter More:**  These particles are much smaller than the wavelength of visible light.  As the sunlight hits them, it gets scattered in different directions. Blue and violet light have the shortest wavelengths and are scattered much more strongly than other colors like red and orange.\n",
      "\n",
      "3. **Our Eyes' Perception:** Our eyes are more sensitive to blue light than violet.  So, while violet light is scattered even more than blue, we primarily perceive the scattered blue light, making the sky appear blue.\n",
      "\n",
      "**Why the sky isn't always blue:**\n",
      "\n",
      "* **At Sunrise and Sunset:** The sky appears redder at these times because the sunlight has to travel through more of the atmosphere to reach our eyes.  The blue light is scattered away so much that we mainly see the longer wavelengths of orange and red.\n",
      "* **Clouds:** Clouds are made of water droplets, which are much larger than gas molecules. These larger particles scatter all wavelengths of light equally, which is why clouds appear white or gray.\n",
      "\n",
      "Let me know if you'd like me to elaborate on any part of this! \n",
      "\n",
      "\n"
     ]
    }
   ],
   "source": [
    "def print_response(prompt):\n",
    "    # Generate a response to the prompt using the generative model\n",
    "    response = model.generate_content(prompt)\n",
    "\n",
    "    # Print only the text of the model's response\n",
    "    print(response.text)\n",
    "    print()\n",
    "\n",
    "# Example usage\n",
    "print_response(\"Why is the sky blue?\")"
   ]
  },
  {
   "cell_type": "markdown",
   "metadata": {
    "id": "kEAJ0ipmbndQ"
   },
   "source": [
    "## Task 2. Personas\n",
    "\n",
    "1. Run the following cell to see the default response to this prompt.\n",
    "\n",
    "2. Then tweak the prompt by asking the model to take on the persona of an **energetic, inspiring personal trainer** who can get users **excited to work out their leg muscles**. Note the difference in vocabulary and tone."
   ]
  },
  {
   "cell_type": "code",
   "execution_count": 5,
   "metadata": {
    "id": "UEo0QhauK27D",
    "tags": []
   },
   "outputs": [
    {
     "name": "stdout",
     "output_type": "stream",
     "text": [
      "##  Great Leg Exercises: From Beginner to Advanced \n",
      "\n",
      "Here's a breakdown of good leg exercises, categorized by muscle group and difficulty:\n",
      "\n",
      "**Warm-up:** (5-10 minutes of light cardio like jumping jacks or brisk walking)\n",
      "\n",
      "**Compound Movements (Work multiple muscle groups):**\n",
      "\n",
      "* **Beginner:**\n",
      "    * **Bodyweight Squats:**  Excellent for building foundational strength. \n",
      "    * **Lunges:**  Work quads, glutes, and hamstrings. Alternate legs for balance.\n",
      "    * **Glute Bridges:**  Target glutes and hamstrings.\n",
      "    * **Step-ups:** Use a sturdy box or step. Great for functional strength.\n",
      "\n",
      "* **Intermediate:**\n",
      "    * **Barbell Squats:**  The king of leg exercises! Builds overall lower body strength.\n",
      "    * **Romanian Deadlifts (RDLs):**  Focus on hamstrings and glutes. \n",
      "    * **Walking Lunges:**  Increase the challenge of regular lunges.\n",
      "    * **Goblet Squats:**  Hold a weight close to your chest for increased core engagement.\n",
      "\n",
      "* **Advanced:**\n",
      "    * **Barbell Back Squats:**  Requires excellent form and core strength.\n",
      "    * **Deadlifts:**  The ultimate test of full-body strength. \n",
      "    * **Bulgarian Split Squats:**  Challenge your balance and work single-leg strength.\n",
      "    * **Pistol Squats (One-legged Squats):**  An advanced exercise requiring significant strength and mobility.\n",
      "\n",
      "**Isolation Exercises (Target specific muscles):**\n",
      "\n",
      "* **Quadriceps:**\n",
      "    * **Leg Extensions:**  Isolate the quads.\n",
      "    * **Wall Sits:**  Great for building isometric strength.\n",
      "* **Hamstrings:**\n",
      "    * **Hamstring Curls:**  Isolate the hamstrings.\n",
      "    * **Glute-Ham Raises (GHRs):** Advanced exercise that targets both hamstrings and glutes. \n",
      "* **Glutes:**\n",
      "    * **Hip Thrusts:**  Excellent for glute activation and strength. \n",
      "    * **Donkey Kicks:**  Target the gluteus maximus.\n",
      "    * **Clamshells:**  Work the gluteus medius (important for hip stability).\n",
      "\n",
      "**Cool-down:** (5-10 minutes of stretching, focusing on major leg muscles)\n",
      "\n",
      "**Tips for Success:**\n",
      "\n",
      "* **Proper Form:**  Focus on correct technique to avoid injury. Watch videos and, if possible, get guidance from a fitness professional.\n",
      "* **Progressive Overload:**  Gradually increase weight, reps, or sets over time to challenge your muscles.\n",
      "* **Listen to Your Body:**  Rest when needed and stop if you feel pain.\n",
      "* **Consistency is Key:** Aim for 2-3 leg workouts per week for optimal results.\n",
      "\n",
      "**Remember:** \n",
      "\n",
      "* This is not an exhaustive list, and many other great leg exercises exist.\n",
      "* Choose exercises appropriate for your fitness level and goals.\n",
      "* Always consult with a healthcare professional before starting any new exercise program. \n",
      "\n",
      "\n",
      "Alright, leg day warrior, let's get those quads firing and hamstrings humming!  It's time to build some serious lower body power!  Forget chicken legs, we're going for legs that can crush mountains (or at least conquer a flight of stairs without breaking a sweat!). \n",
      "\n",
      "**Here's your leg day hype-up:**\n",
      "\n",
      "* **Squats:** The king of all leg exercises!  Feel the burn as you drop low and explode upwards, engaging every muscle fiber from glutes to calves.  Imagine yourself as a powerful athlete, launching into the air! \n",
      "* **Deadlifts:**  This isn't just a leg exercise, it's a total body challenge!  Hinge at your hips, grip the bar, and lift with your legs and back.  You'll be amazed at the raw power you possess!\n",
      "* **Lunges:**  Time to sculpt those legs!  Take a big step, lower your body until your knee kisses the ground (almost!), and feel the burn.  Lunges are like magic for toning and strengthening. \n",
      "* **Bulgarian Split Squats:** Feeling brave?  This challenging exercise will test your balance and build serious single-leg strength.  It's like a lunge, but with your back foot elevated for an extra challenge. \n",
      "* **Calf Raises:** Don't forget those calves!  Stand tall, lift up onto your toes, and feel the burn in your lower legs.  Strong calves are essential for explosive movements and will make you unstoppable!\n",
      "\n",
      "**Remember:**\n",
      "\n",
      "* **Proper form is key!**  Focus on technique over weight to avoid injury and maximize results.\n",
      "* **Fuel your body!**  Eat plenty of protein and complex carbs to support muscle growth and recovery. \n",
      "* **Challenge yourself!**  Gradually increase weight or resistance to keep those muscles growing.\n",
      "* **Celebrate your progress!**  Every rep, every set, every workout is a victory.  You've got this! \n",
      "\n",
      "Now get out there and dominate your leg day!  You've got the power to transform your body and achieve your fitness goals.  Let's crush it! \n",
      "\n",
      "\n"
     ]
    }
   ],
   "source": [
    "# TODO: Improve the personality of the response by assigning the suggested persona.\n",
    "prompt = \"What are some good leg exercises?\"\n",
    "print_response(prompt)\n",
    "\n",
    "# Tweaked prompt for the energetic, inspiring personal trainer persona\n",
    "tweaked_prompt = \"As an energetic and inspiring personal trainer, can you get me excited about some amazing leg exercises that will really pump up my muscles?\"\n",
    "\n",
    "print_response(tweaked_prompt)"
   ]
  },
  {
   "cell_type": "markdown",
   "metadata": {
    "id": "ueKZMheeK27D"
   },
   "source": [
    "## Task 3. Be specific + constrain the output format\n",
    "\n",
    "1. Have the model convert the following text of cooking ingredients to a YAML format. Each ingredient should be listed as a dictionary with keys for **ingredient** and **quantity** populated with the correct value given the ingredients in the following recipe:"
   ]
  },
  {
   "cell_type": "code",
   "execution_count": 6,
   "metadata": {
    "id": "qyJASDrsK27D",
    "tags": []
   },
   "outputs": [
    {
     "name": "stdout",
     "output_type": "stream",
     "text": [
      "```yaml\n",
      "- ingredient: egg whites\n",
      "  quantity: 9\n",
      "- ingredient: Cream of Tartar\n",
      "  quantity: 3/8 tsp\n",
      "- ingredient: Vinegar\n",
      "  quantity: 1 1/2 tbs\n",
      "- ingredient: Vanilla\n",
      "  quantity: 1 1/2 tsp\n",
      "- ingredient: Sugar\n",
      "  quantity: 3 cups\n",
      "- ingredient: Heavy whipping cream\n",
      "  quantity: 1 quart\n",
      "- ingredient: Strawberries\n",
      "  quantity: 3 boxes\n",
      "```\n",
      "\n"
     ]
    }
   ],
   "source": [
    "# Instructions for the model to convert the text into YAML format\n",
    "instructions = (\n",
    "    \"Please convert the following list of cooking ingredients into YAML format. \"\n",
    "    \"Each ingredient should be represented as a dictionary with the keys 'ingredient' and 'quantity'. \"\n",
    "    \"Ensure that the output is properly formatted as valid YAML.\"\n",
    ")\n",
    "\n",
    "ingredients = \"\"\"\n",
    "    Ingredients:\n",
    "    * 9 egg whites\n",
    "    * 3/8 tsp Cream of Tartar\n",
    "    * 1 1/2 tbs Vinegar\n",
    "    * 1 1/2 tsp Vanilla\n",
    "    * 3 cups Sugar\n",
    "    * 1 quart Heavy whipping cream\n",
    "    * 3 boxes Strawberries\n",
    "    \"\"\"\n",
    "\n",
    "# Combine instructions and ingredients into a single prompt\n",
    "prompt = instructions + \"\\n\\n\" + ingredients\n",
    "\n",
    "# Print the response based on the prompt\n",
    "print_response(prompt)"
   ]
  },
  {
   "cell_type": "markdown",
   "metadata": {
    "id": "6xRk8HTLK27D"
   },
   "source": [
    "## Task 4. Use a fallback response\n",
    "\n",
    "1. Adjust the prompt below to specify that the model should only answer questions related to historical landmarks. If a user askes about something else, the model should respond with the message: `Sorry, I only answer questions about historical landmarks!`\n",
    "\n",
    "2. Adjust your instructions until the model declines to answer the `user_query` below."
   ]
  },
  {
   "cell_type": "code",
   "execution_count": 7,
   "metadata": {
    "id": "6InaQ3OpK27D",
    "tags": []
   },
   "outputs": [
    {
     "name": "stdout",
     "output_type": "stream",
     "text": [
      "Sorry, I only answer questions about historical landmarks! \n",
      "\n",
      "\n"
     ]
    }
   ],
   "source": [
    "# Instructions to limit the response to historical landmarks and provide a fallback for off-topic queries\n",
    "instructions = (\n",
    "    \"You are a history tour guide. You only answer questions related to historical landmarks. \"\n",
    "    \"If the question is about something else, respond with: 'Sorry, I only answer questions about historical landmarks!' \"\n",
    "    \"Answer the user's question: {user_query}\"\n",
    ")\n",
    "\n",
    "user_query = \"How can I attract butterflies to my garden?\"\n",
    "\n",
    "# Print the response based on the adjusted prompt\n",
    "print_response(instructions.format(user_query=user_query))\n"
   ]
  },
  {
   "cell_type": "markdown",
   "metadata": {
    "id": "gFolKJjNK27D"
   },
   "source": [
    "## Task 5. Make results more specific with examples\n",
    "\n",
    "1. Run the code cell below to see the model's response as-is.\n",
    "\n",
    "2. Imagining you work for a bicycle tour company, modify each of the example outputs below to include a bicycle.\n",
    "\n",
    "3. Re-run the code cell to make sure the model generates a bicycle-themed response. Leave the instructions alone and tweak your examples until you get such a response."
   ]
  },
  {
   "cell_type": "code",
   "execution_count": 8,
   "metadata": {
    "id": "zsjp39ZWK27D",
    "tags": []
   },
   "outputs": [
    {
     "name": "stdout",
     "output_type": "stream",
     "text": [
      "Please give me more information! To help you take a taxi to Lalbagh Botanical Garden, I need to know:\n",
      "\n",
      "* **Where are you starting from?**  Please tell me your current location. \n",
      "* **Do you need help finding a taxi service?** I can help you find local taxi companies or ride-hailing apps. \n",
      "\n",
      "Once I have this information, I can give you more specific directions! \n",
      "\n",
      "\n"
     ]
    }
   ],
   "source": [
    "# TODO: Modify the examples below to guide the model to always generate\n",
    "# recommendations involving bicycles.\n",
    "\n",
    "prompt = model.generate_content(f\"\"\"\n",
    "    <INSTRUCTIONS>\n",
    "    Give a tourist recommendation for the input city.\n",
    "    </INSTRUCTIONS>\n",
    "\n",
    "    <EXAMPLES>\n",
    "    Input: Paris\n",
    "    Output: Take a taxi to the Louvre and then to Montmartre.\n",
    "\n",
    "    Input: Washington D.C.\n",
    "    Output: Drive your rental car to the Lincoln Memorial.\n",
    "\n",
    "    Input: New York City\n",
    "    Output: Walk along the river.\n",
    "    </EXAMPLES>\n",
    "\n",
    "    <INPUT CITY>\n",
    "    Bangalore\n",
    "    </INPUT CITY>\"\"\")\n",
    "\n",
    "print_response(prompt.text)"
   ]
  },
  {
   "cell_type": "code",
   "execution_count": 9,
   "metadata": {
    "tags": []
   },
   "outputs": [
    {
     "name": "stdout",
     "output_type": "stream",
     "text": [
      "Rent a bicycle and explore the lush green spaces of Cubbon Park, enjoying the peacefulness of the park. Afterwards, cycle to Lalbagh Botanical Garden and admire the diverse plant life and the beautiful Glass House. \n",
      "\n",
      "\n"
     ]
    }
   ],
   "source": [
    "# Revised prompt to ensure bicycle-themed recommendations are generated\n",
    "prompt = \"\"\"\n",
    "    <INSTRUCTIONS>\n",
    "    Give a tourist recommendation for the input city, ensuring to include a bicycle in the activity.\n",
    "    </INSTRUCTIONS>\n",
    "\n",
    "    <EXAMPLES>\n",
    "    Input: Paris\n",
    "    Output: Rent a bicycle and ride along the Seine, stopping at the Louvre and then cycling up to Montmartre for a scenic view.\n",
    "\n",
    "    Input: Washington D.C.\n",
    "    Output: Rent a bike to cycle to the Lincoln Memorial, and enjoy the ride along the National Mall while visiting the monuments.\n",
    "\n",
    "    Input: New York City\n",
    "    Output: Rent a bicycle and explore Central Park, then ride along the Hudson River Greenway, stopping at waterfront parks.\n",
    "    </EXAMPLES>\n",
    "\n",
    "    <INPUT CITY>\n",
    "    Bangalore\n",
    "    </INPUT CITY>\"\"\"\n",
    "\n",
    "print_response(prompt)"
   ]
  },
  {
   "cell_type": "code",
   "execution_count": null,
   "metadata": {},
   "outputs": [],
   "source": []
  }
 ],
 "metadata": {
  "colab": {
   "name": "text_prompt_design_challenge_lab.ipynb",
   "provenance": [],
   "toc_visible": true
  },
  "environment": {
   "kernel": "conda-base-py",
   "name": "workbench-notebooks.m125",
   "type": "gcloud",
   "uri": "us-docker.pkg.dev/deeplearning-platform-release/gcr.io/workbench-notebooks:m125"
  },
  "kernelspec": {
   "display_name": "Python 3 (ipykernel) (Local)",
   "language": "python",
   "name": "conda-base-py"
  },
  "language_info": {
   "codemirror_mode": {
    "name": "ipython",
    "version": 3
   },
   "file_extension": ".py",
   "mimetype": "text/x-python",
   "name": "python",
   "nbconvert_exporter": "python",
   "pygments_lexer": "ipython3",
   "version": "3.10.15"
  }
 },
 "nbformat": 4,
 "nbformat_minor": 4
}
